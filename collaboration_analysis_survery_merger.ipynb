{
 "cells": [
  {
   "cell_type": "markdown",
   "id": "66fc79d8",
   "metadata": {},
   "source": [
    "# Import Necessary Libraries"
   ]
  },
  {
   "cell_type": "code",
   "execution_count": 27,
   "id": "0646482e",
   "metadata": {},
   "outputs": [],
   "source": [
    "import pandas as pd\n",
    "import glob"
   ]
  },
  {
   "cell_type": "markdown",
   "id": "572aa5dd",
   "metadata": {},
   "source": [
    "# Load Collaboration and Survey Datasets"
   ]
  },
  {
   "cell_type": "code",
   "execution_count": 28,
   "id": "d70e893c",
   "metadata": {},
   "outputs": [],
   "source": [
    "dataset_collaboration = pd.read_csv('data/dataset_collaboration.csv')\n",
    "dataset_overall = pd.read_csv('data/dataset_survey_overall.csv')"
   ]
  },
  {
   "cell_type": "markdown",
   "id": "4c0c8b1f",
   "metadata": {},
   "source": [
    "# Process Overall Survey Data"
   ]
  },
  {
   "cell_type": "code",
   "execution_count": 29,
   "id": "749dce37",
   "metadata": {},
   "outputs": [],
   "source": [
    "dataset_overall_melted = pd.melt(dataset_overall, id_vars=[\n",
    "                                 'meeting_number'], var_name='speaker', value_name='collaboration_score')\n",
    "dataset_overall_melted['speaker_number'] = dataset_overall_melted['speaker'].str.extract(\n",
    "    '(\\d+)').astype(int)\n",
    "dataset_overall_melted.drop('speaker', axis=1, inplace=True)"
   ]
  },
  {
   "cell_type": "markdown",
   "id": "94ebf35d",
   "metadata": {},
   "source": [
    "# Merge Collaboration Data with Overall Survey Scores"
   ]
  },
  {
   "cell_type": "code",
   "execution_count": 30,
   "id": "5093b867",
   "metadata": {},
   "outputs": [],
   "source": [
    "merged_table = pd.merge(dataset_collaboration, dataset_overall_melted, how='left', on=[\n",
    "                        'meeting_number', 'speaker_number'])\n",
    "merged_table['overall_collaboration_score'] = merged_table.apply(\n",
    "    lambda row: -1 if row['project'] == 3 else row['collaboration_score'], axis=1\n",
    ")\n",
    "merged_table.drop(columns=['collaboration_score'], inplace=True)"
   ]
  },
  {
   "cell_type": "markdown",
   "id": "84030236",
   "metadata": {},
   "source": [
    "# Initialize Individual Collaboration Score for Project 3"
   ]
  },
  {
   "cell_type": "code",
   "execution_count": 31,
   "id": "8d3b569a",
   "metadata": {},
   "outputs": [],
   "source": [
    "merged_table['individual_collaboration_score'] = -1"
   ]
  },
  {
   "cell_type": "markdown",
   "id": "1108181d",
   "metadata": {},
   "source": [
    "# List All Individual Survey Files"
   ]
  },
  {
   "cell_type": "code",
   "execution_count": 32,
   "id": "fb16020c",
   "metadata": {},
   "outputs": [],
   "source": [
    "individual_files = sorted(glob.glob('data/dataset_survey_individual_*'))"
   ]
  },
  {
   "cell_type": "markdown",
   "id": "8fe855bb",
   "metadata": {},
   "source": [
    "# Process Each Individual Survey File and Update Collaboration Data"
   ]
  },
  {
   "cell_type": "code",
   "execution_count": 33,
   "id": "4e7a52ae",
   "metadata": {},
   "outputs": [],
   "source": [
    "for file in individual_files:\n",
    "    dataset_individual = pd.read_csv(file)\n",
    "\n",
    "    # Melt dataset_individual\n",
    "    dataset_individual_melted = pd.melt(dataset_individual, id_vars=[\n",
    "                                        'scorer', 'meeting_number'], var_name='speaker', value_name='score')\n",
    "    dataset_individual_melted['next_speaker_id'] = dataset_individual_melted['speaker'].str.extract(\n",
    "        '(\\d+)').astype(int)\n",
    "    dataset_individual_melted.drop('speaker', axis=1, inplace=True)\n",
    "\n",
    "    # Rename columns for clarity\n",
    "    dataset_individual_melted.rename(\n",
    "        columns={'scorer': 'next_speaker_id', 'next_speaker_id': 'speaker_id'}, inplace=True)\n",
    "\n",
    "    temp_merged_table = pd.merge(\n",
    "        merged_table,\n",
    "        dataset_individual_melted,\n",
    "        how='left',\n",
    "        on=['meeting_number', 'speaker_id', 'next_speaker_id']\n",
    "    )\n",
    "\n",
    "    temp_merged_table['individual_collaboration_score'] = temp_merged_table.apply(\n",
    "        lambda row: row['score'] if row['project'] == 4 and pd.notnull(\n",
    "            row['score']) else row['individual_collaboration_score'],\n",
    "        axis=1\n",
    "    )\n",
    "    temp_merged_table.drop(columns=['score'], inplace=True)\n",
    "\n",
    "    merged_table = temp_merged_table"
   ]
  },
  {
   "cell_type": "markdown",
   "id": "5328363c",
   "metadata": {},
   "source": [
    "# Reorder Columns and Save the Final Result"
   ]
  },
  {
   "cell_type": "code",
   "execution_count": 34,
   "id": "140e5d5a",
   "metadata": {},
   "outputs": [],
   "source": [
    "final_columns = [\n",
    "    'id', 'project', 'meeting_number', 'speaker_number', 'speech_frequency', 'total_words', 'duration', 'normalized_speech_frequency',\n",
    "    'speaker_id', 'next_speaker_id', 'count', 'network_density', 'weighted_network_density', 'gini_coefficient',\n",
    "    'interaction_equality_index', 'degree_centrality', 'indegree_centrality', 'outdegree_centrality', 'betweenness_centrality',\n",
    "    'closeness_centrality', 'eigenvector_centrality', 'pagerank', 'overall_collaboration_score', 'individual_collaboration_score'\n",
    "]\n",
    "\n",
    "merged_table = merged_table[final_columns]\n",
    "merged_table.to_csv(\n",
    "    'data/dataset_collaboration_with_survey_scores.csv', index=False)"
   ]
  },
  {
   "cell_type": "markdown",
   "id": "82bd81a7",
   "metadata": {},
   "source": [
    "# Display the Result"
   ]
  },
  {
   "cell_type": "code",
   "execution_count": 35,
   "id": "9e9c1726",
   "metadata": {},
   "outputs": [
    {
     "data": {
      "text/html": [
       "<div>\n",
       "<style scoped>\n",
       "    .dataframe tbody tr th:only-of-type {\n",
       "        vertical-align: middle;\n",
       "    }\n",
       "\n",
       "    .dataframe tbody tr th {\n",
       "        vertical-align: top;\n",
       "    }\n",
       "\n",
       "    .dataframe thead th {\n",
       "        text-align: right;\n",
       "    }\n",
       "</style>\n",
       "<table border=\"1\" class=\"dataframe\">\n",
       "  <thead>\n",
       "    <tr style=\"text-align: right;\">\n",
       "      <th></th>\n",
       "      <th>id</th>\n",
       "      <th>project</th>\n",
       "      <th>meeting_number</th>\n",
       "      <th>speaker_number</th>\n",
       "      <th>speech_frequency</th>\n",
       "      <th>total_words</th>\n",
       "      <th>duration</th>\n",
       "      <th>normalized_speech_frequency</th>\n",
       "      <th>speaker_id</th>\n",
       "      <th>next_speaker_id</th>\n",
       "      <th>...</th>\n",
       "      <th>interaction_equality_index</th>\n",
       "      <th>degree_centrality</th>\n",
       "      <th>indegree_centrality</th>\n",
       "      <th>outdegree_centrality</th>\n",
       "      <th>betweenness_centrality</th>\n",
       "      <th>closeness_centrality</th>\n",
       "      <th>eigenvector_centrality</th>\n",
       "      <th>pagerank</th>\n",
       "      <th>overall_collaboration_score</th>\n",
       "      <th>individual_collaboration_score</th>\n",
       "    </tr>\n",
       "  </thead>\n",
       "  <tbody>\n",
       "    <tr>\n",
       "      <th>0</th>\n",
       "      <td>3_1_SPEAKER_00</td>\n",
       "      <td>3</td>\n",
       "      <td>1</td>\n",
       "      <td>0</td>\n",
       "      <td>22</td>\n",
       "      <td>8731</td>\n",
       "      <td>1.633333</td>\n",
       "      <td>13.469388</td>\n",
       "      <td>0</td>\n",
       "      <td>0</td>\n",
       "      <td>...</td>\n",
       "      <td>0.009704</td>\n",
       "      <td>0.000094</td>\n",
       "      <td>0.000047</td>\n",
       "      <td>0.000047</td>\n",
       "      <td>0.000000</td>\n",
       "      <td>9.518792e-08</td>\n",
       "      <td>0.0</td>\n",
       "      <td>0.000003</td>\n",
       "      <td>-1.0</td>\n",
       "      <td>-1.0</td>\n",
       "    </tr>\n",
       "    <tr>\n",
       "      <th>1</th>\n",
       "      <td>3_1_SPEAKER_00</td>\n",
       "      <td>3</td>\n",
       "      <td>1</td>\n",
       "      <td>0</td>\n",
       "      <td>22</td>\n",
       "      <td>8731</td>\n",
       "      <td>1.633333</td>\n",
       "      <td>13.469388</td>\n",
       "      <td>0</td>\n",
       "      <td>1</td>\n",
       "      <td>...</td>\n",
       "      <td>0.009704</td>\n",
       "      <td>0.000094</td>\n",
       "      <td>0.000047</td>\n",
       "      <td>0.000047</td>\n",
       "      <td>0.000000</td>\n",
       "      <td>9.518792e-08</td>\n",
       "      <td>0.0</td>\n",
       "      <td>0.000003</td>\n",
       "      <td>-1.0</td>\n",
       "      <td>-1.0</td>\n",
       "    </tr>\n",
       "    <tr>\n",
       "      <th>2</th>\n",
       "      <td>3_1_SPEAKER_00</td>\n",
       "      <td>3</td>\n",
       "      <td>1</td>\n",
       "      <td>0</td>\n",
       "      <td>22</td>\n",
       "      <td>8731</td>\n",
       "      <td>1.633333</td>\n",
       "      <td>13.469388</td>\n",
       "      <td>0</td>\n",
       "      <td>2</td>\n",
       "      <td>...</td>\n",
       "      <td>0.009704</td>\n",
       "      <td>0.000094</td>\n",
       "      <td>0.000047</td>\n",
       "      <td>0.000047</td>\n",
       "      <td>0.000000</td>\n",
       "      <td>9.518792e-08</td>\n",
       "      <td>0.0</td>\n",
       "      <td>0.000003</td>\n",
       "      <td>-1.0</td>\n",
       "      <td>-1.0</td>\n",
       "    </tr>\n",
       "    <tr>\n",
       "      <th>3</th>\n",
       "      <td>3_1_SPEAKER_00</td>\n",
       "      <td>3</td>\n",
       "      <td>1</td>\n",
       "      <td>0</td>\n",
       "      <td>22</td>\n",
       "      <td>8731</td>\n",
       "      <td>1.633333</td>\n",
       "      <td>13.469388</td>\n",
       "      <td>0</td>\n",
       "      <td>3</td>\n",
       "      <td>...</td>\n",
       "      <td>0.009704</td>\n",
       "      <td>0.000094</td>\n",
       "      <td>0.000047</td>\n",
       "      <td>0.000047</td>\n",
       "      <td>0.000000</td>\n",
       "      <td>9.518792e-08</td>\n",
       "      <td>0.0</td>\n",
       "      <td>0.000003</td>\n",
       "      <td>-1.0</td>\n",
       "      <td>-1.0</td>\n",
       "    </tr>\n",
       "    <tr>\n",
       "      <th>4</th>\n",
       "      <td>3_1_SPEAKER_01</td>\n",
       "      <td>3</td>\n",
       "      <td>1</td>\n",
       "      <td>1</td>\n",
       "      <td>645</td>\n",
       "      <td>8731</td>\n",
       "      <td>1.633333</td>\n",
       "      <td>394.897959</td>\n",
       "      <td>1</td>\n",
       "      <td>0</td>\n",
       "      <td>...</td>\n",
       "      <td>0.009704</td>\n",
       "      <td>0.166808</td>\n",
       "      <td>0.083381</td>\n",
       "      <td>0.083428</td>\n",
       "      <td>0.000051</td>\n",
       "      <td>9.523587e-08</td>\n",
       "      <td>0.0</td>\n",
       "      <td>0.000030</td>\n",
       "      <td>-1.0</td>\n",
       "      <td>-1.0</td>\n",
       "    </tr>\n",
       "  </tbody>\n",
       "</table>\n",
       "<p>5 rows × 24 columns</p>\n",
       "</div>"
      ],
      "text/plain": [
       "               id  project  meeting_number  speaker_number  speech_frequency  \\\n",
       "0  3_1_SPEAKER_00        3               1               0                22   \n",
       "1  3_1_SPEAKER_00        3               1               0                22   \n",
       "2  3_1_SPEAKER_00        3               1               0                22   \n",
       "3  3_1_SPEAKER_00        3               1               0                22   \n",
       "4  3_1_SPEAKER_01        3               1               1               645   \n",
       "\n",
       "   total_words  duration  normalized_speech_frequency  speaker_id  \\\n",
       "0         8731  1.633333                    13.469388           0   \n",
       "1         8731  1.633333                    13.469388           0   \n",
       "2         8731  1.633333                    13.469388           0   \n",
       "3         8731  1.633333                    13.469388           0   \n",
       "4         8731  1.633333                   394.897959           1   \n",
       "\n",
       "   next_speaker_id  ...  interaction_equality_index  degree_centrality  \\\n",
       "0                0  ...                    0.009704           0.000094   \n",
       "1                1  ...                    0.009704           0.000094   \n",
       "2                2  ...                    0.009704           0.000094   \n",
       "3                3  ...                    0.009704           0.000094   \n",
       "4                0  ...                    0.009704           0.166808   \n",
       "\n",
       "   indegree_centrality  outdegree_centrality  betweenness_centrality  \\\n",
       "0             0.000047              0.000047                0.000000   \n",
       "1             0.000047              0.000047                0.000000   \n",
       "2             0.000047              0.000047                0.000000   \n",
       "3             0.000047              0.000047                0.000000   \n",
       "4             0.083381              0.083428                0.000051   \n",
       "\n",
       "   closeness_centrality  eigenvector_centrality  pagerank  \\\n",
       "0          9.518792e-08                     0.0  0.000003   \n",
       "1          9.518792e-08                     0.0  0.000003   \n",
       "2          9.518792e-08                     0.0  0.000003   \n",
       "3          9.518792e-08                     0.0  0.000003   \n",
       "4          9.523587e-08                     0.0  0.000030   \n",
       "\n",
       "   overall_collaboration_score  individual_collaboration_score  \n",
       "0                         -1.0                            -1.0  \n",
       "1                         -1.0                            -1.0  \n",
       "2                         -1.0                            -1.0  \n",
       "3                         -1.0                            -1.0  \n",
       "4                         -1.0                            -1.0  \n",
       "\n",
       "[5 rows x 24 columns]"
      ]
     },
     "execution_count": 35,
     "metadata": {},
     "output_type": "execute_result"
    }
   ],
   "source": [
    "merged_table.head()"
   ]
  }
 ],
 "metadata": {
  "kernelspec": {
   "display_name": "Python 3",
   "language": "python",
   "name": "python3"
  },
  "language_info": {
   "codemirror_mode": {
    "name": "ipython",
    "version": 3
   },
   "file_extension": ".py",
   "mimetype": "text/x-python",
   "name": "python",
   "nbconvert_exporter": "python",
   "pygments_lexer": "ipython3",
   "version": "3.10.1"
  }
 },
 "nbformat": 4,
 "nbformat_minor": 5
}
